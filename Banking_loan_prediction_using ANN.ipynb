{
  "nbformat": 4,
  "nbformat_minor": 0,
  "metadata": {
    "colab": {
      "name": ".ipynb",
      "provenance": [],
      "mount_file_id": "1QCiw-scHZnNnHUs7jIEH9z6Tq36OLcir",
      "authorship_tag": "ABX9TyPDtZyw3yu5X9X9f6c6CyKJ",
      "include_colab_link": true
    },
    "kernelspec": {
      "name": "python3",
      "display_name": "Python 3"
    },
    "language_info": {
      "name": "python"
    }
  },
  "cells": [
    {
      "cell_type": "markdown",
      "metadata": {
        "id": "view-in-github",
        "colab_type": "text"
      },
      "source": [
        "<a href=\"https://colab.research.google.com/github/ankan92/Artificial-Neural-Network-ANN-/blob/main/Banking_loan_prediction_using%20ANN.ipynb\" target=\"_parent\"><img src=\"https://colab.research.google.com/assets/colab-badge.svg\" alt=\"Open In Colab\"/></a>"
      ]
    },
    {
      "cell_type": "markdown",
      "source": [
        "# Business Problem\n",
        "We have a Bank data set. From that data set we have to predct if the customer will take a personal Loan or Not.\n",
        "\n",
        "Using ANN Metod we predict this classification model"
      ],
      "metadata": {
        "id": "dK7T3ma06ZIm"
      }
    },
    {
      "cell_type": "markdown",
      "source": [
        "## Importing Bsic Library"
      ],
      "metadata": {
        "id": "PhuqPQXN7NlA"
      }
    },
    {
      "cell_type": "code",
      "source": [
        "import numpy as np\n",
        "import pandas as pd\n",
        "\n",
        "import matplotlib.pyplot as plt\n",
        "import seaborn as sns\n",
        "\n",
        "from sklearn.neural_network import MLPClassifier # MLPClassifier stands for Multi Layer Perceptron classifier\n"
      ],
      "metadata": {
        "id": "aUYSiPPK6wXy"
      },
      "execution_count": 101,
      "outputs": []
    },
    {
      "cell_type": "markdown",
      "source": [
        "MLP Classifier generally used for machine learning problem but deep learning problem. We used other packeges called Keras or tensorflow. Which support the same neural network. Algorithm for larger data set and more complex problem"
      ],
      "metadata": {
        "id": "5adISuLR9N7-"
      }
    },
    {
      "cell_type": "code",
      "source": [
        "bank = pd.read_csv(\"Bank_Dataset.csv\")"
      ],
      "metadata": {
        "id": "iwqiNPE18C9n"
      },
      "execution_count": 102,
      "outputs": []
    },
    {
      "cell_type": "markdown",
      "source": [
        "## Check first five values of the data set"
      ],
      "metadata": {
        "id": "48NB5vOs9acp"
      }
    },
    {
      "cell_type": "code",
      "source": [
        "bank.head()"
      ],
      "metadata": {
        "colab": {
          "base_uri": "https://localhost:8080/",
          "height": 270
        },
        "id": "8I7WLltd9YsQ",
        "outputId": "fe322a63-cdfa-4598-9644-dc5a937dc11b"
      },
      "execution_count": 103,
      "outputs": [
        {
          "output_type": "execute_result",
          "data": {
            "text/plain": [
              "   ID  Age  Experience  Income  ZIP_Code  Family_members  CCAvg  Education  \\\n",
              "0   1   25           1      49     91107               4    1.6          1   \n",
              "1   2   45          19      34     90089               3    1.5          1   \n",
              "2   3   39          15      11     94720               1    1.0          1   \n",
              "3   4   35           9     100     94112               1    2.7          2   \n",
              "4   5   35           8      45     91330               4    1.0          2   \n",
              "\n",
              "   Mortgage  Personal_Loan  Securities_Account  CD_Account  Online  CreditCard  \n",
              "0         0              0                   1           0       0           0  \n",
              "1         0              0                   1           0       0           0  \n",
              "2         0              0                   0           0       0           0  \n",
              "3         0              0                   0           0       0           0  \n",
              "4         0              0                   0           0       0           1  "
            ],
            "text/html": [
              "\n",
              "  <div id=\"df-3cc0c462-1b3b-4938-9350-1c837efe6b7e\">\n",
              "    <div class=\"colab-df-container\">\n",
              "      <div>\n",
              "<style scoped>\n",
              "    .dataframe tbody tr th:only-of-type {\n",
              "        vertical-align: middle;\n",
              "    }\n",
              "\n",
              "    .dataframe tbody tr th {\n",
              "        vertical-align: top;\n",
              "    }\n",
              "\n",
              "    .dataframe thead th {\n",
              "        text-align: right;\n",
              "    }\n",
              "</style>\n",
              "<table border=\"1\" class=\"dataframe\">\n",
              "  <thead>\n",
              "    <tr style=\"text-align: right;\">\n",
              "      <th></th>\n",
              "      <th>ID</th>\n",
              "      <th>Age</th>\n",
              "      <th>Experience</th>\n",
              "      <th>Income</th>\n",
              "      <th>ZIP_Code</th>\n",
              "      <th>Family_members</th>\n",
              "      <th>CCAvg</th>\n",
              "      <th>Education</th>\n",
              "      <th>Mortgage</th>\n",
              "      <th>Personal_Loan</th>\n",
              "      <th>Securities_Account</th>\n",
              "      <th>CD_Account</th>\n",
              "      <th>Online</th>\n",
              "      <th>CreditCard</th>\n",
              "    </tr>\n",
              "  </thead>\n",
              "  <tbody>\n",
              "    <tr>\n",
              "      <th>0</th>\n",
              "      <td>1</td>\n",
              "      <td>25</td>\n",
              "      <td>1</td>\n",
              "      <td>49</td>\n",
              "      <td>91107</td>\n",
              "      <td>4</td>\n",
              "      <td>1.6</td>\n",
              "      <td>1</td>\n",
              "      <td>0</td>\n",
              "      <td>0</td>\n",
              "      <td>1</td>\n",
              "      <td>0</td>\n",
              "      <td>0</td>\n",
              "      <td>0</td>\n",
              "    </tr>\n",
              "    <tr>\n",
              "      <th>1</th>\n",
              "      <td>2</td>\n",
              "      <td>45</td>\n",
              "      <td>19</td>\n",
              "      <td>34</td>\n",
              "      <td>90089</td>\n",
              "      <td>3</td>\n",
              "      <td>1.5</td>\n",
              "      <td>1</td>\n",
              "      <td>0</td>\n",
              "      <td>0</td>\n",
              "      <td>1</td>\n",
              "      <td>0</td>\n",
              "      <td>0</td>\n",
              "      <td>0</td>\n",
              "    </tr>\n",
              "    <tr>\n",
              "      <th>2</th>\n",
              "      <td>3</td>\n",
              "      <td>39</td>\n",
              "      <td>15</td>\n",
              "      <td>11</td>\n",
              "      <td>94720</td>\n",
              "      <td>1</td>\n",
              "      <td>1.0</td>\n",
              "      <td>1</td>\n",
              "      <td>0</td>\n",
              "      <td>0</td>\n",
              "      <td>0</td>\n",
              "      <td>0</td>\n",
              "      <td>0</td>\n",
              "      <td>0</td>\n",
              "    </tr>\n",
              "    <tr>\n",
              "      <th>3</th>\n",
              "      <td>4</td>\n",
              "      <td>35</td>\n",
              "      <td>9</td>\n",
              "      <td>100</td>\n",
              "      <td>94112</td>\n",
              "      <td>1</td>\n",
              "      <td>2.7</td>\n",
              "      <td>2</td>\n",
              "      <td>0</td>\n",
              "      <td>0</td>\n",
              "      <td>0</td>\n",
              "      <td>0</td>\n",
              "      <td>0</td>\n",
              "      <td>0</td>\n",
              "    </tr>\n",
              "    <tr>\n",
              "      <th>4</th>\n",
              "      <td>5</td>\n",
              "      <td>35</td>\n",
              "      <td>8</td>\n",
              "      <td>45</td>\n",
              "      <td>91330</td>\n",
              "      <td>4</td>\n",
              "      <td>1.0</td>\n",
              "      <td>2</td>\n",
              "      <td>0</td>\n",
              "      <td>0</td>\n",
              "      <td>0</td>\n",
              "      <td>0</td>\n",
              "      <td>0</td>\n",
              "      <td>1</td>\n",
              "    </tr>\n",
              "  </tbody>\n",
              "</table>\n",
              "</div>\n",
              "      <button class=\"colab-df-convert\" onclick=\"convertToInteractive('df-3cc0c462-1b3b-4938-9350-1c837efe6b7e')\"\n",
              "              title=\"Convert this dataframe to an interactive table.\"\n",
              "              style=\"display:none;\">\n",
              "        \n",
              "  <svg xmlns=\"http://www.w3.org/2000/svg\" height=\"24px\"viewBox=\"0 0 24 24\"\n",
              "       width=\"24px\">\n",
              "    <path d=\"M0 0h24v24H0V0z\" fill=\"none\"/>\n",
              "    <path d=\"M18.56 5.44l.94 2.06.94-2.06 2.06-.94-2.06-.94-.94-2.06-.94 2.06-2.06.94zm-11 1L8.5 8.5l.94-2.06 2.06-.94-2.06-.94L8.5 2.5l-.94 2.06-2.06.94zm10 10l.94 2.06.94-2.06 2.06-.94-2.06-.94-.94-2.06-.94 2.06-2.06.94z\"/><path d=\"M17.41 7.96l-1.37-1.37c-.4-.4-.92-.59-1.43-.59-.52 0-1.04.2-1.43.59L10.3 9.45l-7.72 7.72c-.78.78-.78 2.05 0 2.83L4 21.41c.39.39.9.59 1.41.59.51 0 1.02-.2 1.41-.59l7.78-7.78 2.81-2.81c.8-.78.8-2.07 0-2.86zM5.41 20L4 18.59l7.72-7.72 1.47 1.35L5.41 20z\"/>\n",
              "  </svg>\n",
              "      </button>\n",
              "      \n",
              "  <style>\n",
              "    .colab-df-container {\n",
              "      display:flex;\n",
              "      flex-wrap:wrap;\n",
              "      gap: 12px;\n",
              "    }\n",
              "\n",
              "    .colab-df-convert {\n",
              "      background-color: #E8F0FE;\n",
              "      border: none;\n",
              "      border-radius: 50%;\n",
              "      cursor: pointer;\n",
              "      display: none;\n",
              "      fill: #1967D2;\n",
              "      height: 32px;\n",
              "      padding: 0 0 0 0;\n",
              "      width: 32px;\n",
              "    }\n",
              "\n",
              "    .colab-df-convert:hover {\n",
              "      background-color: #E2EBFA;\n",
              "      box-shadow: 0px 1px 2px rgba(60, 64, 67, 0.3), 0px 1px 3px 1px rgba(60, 64, 67, 0.15);\n",
              "      fill: #174EA6;\n",
              "    }\n",
              "\n",
              "    [theme=dark] .colab-df-convert {\n",
              "      background-color: #3B4455;\n",
              "      fill: #D2E3FC;\n",
              "    }\n",
              "\n",
              "    [theme=dark] .colab-df-convert:hover {\n",
              "      background-color: #434B5C;\n",
              "      box-shadow: 0px 1px 3px 1px rgba(0, 0, 0, 0.15);\n",
              "      filter: drop-shadow(0px 1px 2px rgba(0, 0, 0, 0.3));\n",
              "      fill: #FFFFFF;\n",
              "    }\n",
              "  </style>\n",
              "\n",
              "      <script>\n",
              "        const buttonEl =\n",
              "          document.querySelector('#df-3cc0c462-1b3b-4938-9350-1c837efe6b7e button.colab-df-convert');\n",
              "        buttonEl.style.display =\n",
              "          google.colab.kernel.accessAllowed ? 'block' : 'none';\n",
              "\n",
              "        async function convertToInteractive(key) {\n",
              "          const element = document.querySelector('#df-3cc0c462-1b3b-4938-9350-1c837efe6b7e');\n",
              "          const dataTable =\n",
              "            await google.colab.kernel.invokeFunction('convertToInteractive',\n",
              "                                                     [key], {});\n",
              "          if (!dataTable) return;\n",
              "\n",
              "          const docLinkHtml = 'Like what you see? Visit the ' +\n",
              "            '<a target=\"_blank\" href=https://colab.research.google.com/notebooks/data_table.ipynb>data table notebook</a>'\n",
              "            + ' to learn more about interactive tables.';\n",
              "          element.innerHTML = '';\n",
              "          dataTable['output_type'] = 'display_data';\n",
              "          await google.colab.output.renderOutput(dataTable, element);\n",
              "          const docLink = document.createElement('div');\n",
              "          docLink.innerHTML = docLinkHtml;\n",
              "          element.appendChild(docLink);\n",
              "        }\n",
              "      </script>\n",
              "    </div>\n",
              "  </div>\n",
              "  "
            ]
          },
          "metadata": {},
          "execution_count": 103
        }
      ]
    },
    {
      "cell_type": "markdown",
      "source": [
        "## Check all the features names in date set"
      ],
      "metadata": {
        "id": "ju1ryv_E98wM"
      }
    },
    {
      "cell_type": "code",
      "source": [
        "bank.columns"
      ],
      "metadata": {
        "colab": {
          "base_uri": "https://localhost:8080/"
        },
        "id": "Q3z0NJM6-Cu4",
        "outputId": "e3798b1f-68ec-4920-cbad-e3115f794c1e"
      },
      "execution_count": 104,
      "outputs": [
        {
          "output_type": "execute_result",
          "data": {
            "text/plain": [
              "Index(['ID', 'Age', 'Experience', 'Income', 'ZIP_Code', 'Family_members',\n",
              "       'CCAvg', 'Education', 'Mortgage', 'Personal_Loan', 'Securities_Account',\n",
              "       'CD_Account', 'Online', 'CreditCard'],\n",
              "      dtype='object')"
            ]
          },
          "metadata": {},
          "execution_count": 104
        }
      ]
    },
    {
      "cell_type": "markdown",
      "source": [
        "## Drop unused columns"
      ],
      "metadata": {
        "id": "l17OdBqT9rIQ"
      }
    },
    {
      "cell_type": "code",
      "source": [
        "bank.drop(['ID','ZIP_Code'], axis = 1, inplace = True)"
      ],
      "metadata": {
        "id": "mXKPLsYC9eVs"
      },
      "execution_count": 105,
      "outputs": []
    },
    {
      "cell_type": "markdown",
      "source": [
        "## After dropping the columns check the reaming columns"
      ],
      "metadata": {
        "id": "WTao5tOO-IPF"
      }
    },
    {
      "cell_type": "code",
      "source": [
        "bank.columns"
      ],
      "metadata": {
        "colab": {
          "base_uri": "https://localhost:8080/"
        },
        "id": "XoT43SWh958X",
        "outputId": "aa5593b9-41d5-4921-bf5e-f2232d813ff2"
      },
      "execution_count": 106,
      "outputs": [
        {
          "output_type": "execute_result",
          "data": {
            "text/plain": [
              "Index(['Age', 'Experience', 'Income', 'Family_members', 'CCAvg', 'Education',\n",
              "       'Mortgage', 'Personal_Loan', 'Securities_Account', 'CD_Account',\n",
              "       'Online', 'CreditCard'],\n",
              "      dtype='object')"
            ]
          },
          "metadata": {},
          "execution_count": 106
        }
      ]
    },
    {
      "cell_type": "markdown",
      "source": [
        "## Spli the data set on Dependent and independent variable"
      ],
      "metadata": {
        "id": "_pYDHJj1-gP2"
      }
    },
    {
      "cell_type": "code",
      "source": [
        "X = bank.drop(['Personal_Loan'], axis = 1)\n",
        "y = bank['Personal_Loan']"
      ],
      "metadata": {
        "id": "t1ypX_IO-gmj"
      },
      "execution_count": 107,
      "outputs": []
    },
    {
      "cell_type": "markdown",
      "source": [
        "## Now split the data set Training and Testing"
      ],
      "metadata": {
        "id": "1ZcTeSpG-P0X"
      }
    },
    {
      "cell_type": "code",
      "source": [
        "from sklearn.model_selection import train_test_split"
      ],
      "metadata": {
        "id": "jLGjuOYW-M_k"
      },
      "execution_count": 108,
      "outputs": []
    },
    {
      "cell_type": "code",
      "source": [
        "X_train, X_test, y_train, y_test = train_test_split(X,y, test_size= .30, random_state= 27)"
      ],
      "metadata": {
        "id": "y2pB2BUO-aG9"
      },
      "execution_count": 109,
      "outputs": []
    },
    {
      "cell_type": "code",
      "source": [
        "# After splitting Check the Shape of the train and test set\n",
        "print(\"Shape of the X_train data set\",X_train.shape)\n",
        "print(\"Shape of the X_test data set\", X_test.shape)\n",
        "print(\"Shape of the y_train data set\", y_train.shape)\n",
        "print(\"Shape of the y_test data set\", y_test.shape)"
      ],
      "metadata": {
        "colab": {
          "base_uri": "https://localhost:8080/"
        },
        "id": "YdKDMw4D-6iM",
        "outputId": "ce7292b0-58c7-4bf3-eecb-367d859dfc09"
      },
      "execution_count": 110,
      "outputs": [
        {
          "output_type": "stream",
          "name": "stdout",
          "text": [
            "Shape of the X_train data set (3487, 11)\n",
            "Shape of the X_test data set (1495, 11)\n",
            "Shape of the y_train data set (3487,)\n",
            "Shape of the y_test data set (1495,)\n"
          ]
        }
      ]
    },
    {
      "cell_type": "markdown",
      "source": [
        "## Scale the data set"
      ],
      "metadata": {
        "id": "pBlLgrbI_muY"
      }
    },
    {
      "cell_type": "code",
      "source": [
        "from sklearn.preprocessing import StandardScaler"
      ],
      "metadata": {
        "id": "Yhj3m544_JmY"
      },
      "execution_count": 111,
      "outputs": []
    },
    {
      "cell_type": "code",
      "source": [
        "sc = StandardScaler()"
      ],
      "metadata": {
        "id": "eFtt5kVR_xWn"
      },
      "execution_count": 112,
      "outputs": []
    },
    {
      "cell_type": "code",
      "source": [
        "X_train = sc.fit_transform(X_train)\n"
      ],
      "metadata": {
        "id": "M36xaArk_0I1"
      },
      "execution_count": 113,
      "outputs": []
    },
    {
      "cell_type": "code",
      "source": [
        "X_train"
      ],
      "metadata": {
        "colab": {
          "base_uri": "https://localhost:8080/"
        },
        "id": "m0ZbwoTO_-eC",
        "outputId": "11b02802-82c3-47ab-acba-ef20d3c1a711"
      },
      "execution_count": 114,
      "outputs": [
        {
          "output_type": "execute_result",
          "data": {
            "text/plain": [
              "array([[ 0.22702424,  0.15893175,  1.41450874, ...,  3.92057292,\n",
              "         0.83032402,  1.55627193],\n",
              "       [-0.99936387, -0.89167492,  0.78275964, ..., -0.25506476,\n",
              "         0.83032402, -0.64256122],\n",
              "       [-0.64896727, -0.54147269, -0.76393643, ..., -0.25506476,\n",
              "         0.83032402, -0.64256122],\n",
              "       ...,\n",
              "       [-0.38616981, -0.27882103, -0.06683397, ..., -0.25506476,\n",
              "         0.83032402,  1.55627193],\n",
              "       [-0.29857066, -0.19127047, -1.13427211, ..., -0.25506476,\n",
              "         0.83032402, -0.64256122],\n",
              "       [ 1.7162098 ,  1.73484175,  0.95703526, ...,  3.92057292,\n",
              "         0.83032402,  1.55627193]])"
            ]
          },
          "metadata": {},
          "execution_count": 114
        }
      ]
    },
    {
      "cell_type": "code",
      "source": [
        "X_test = sc.transform(X_test)\n",
        "# Note: We should not perform fit_transform on the test data set we only tranform the transform. Because we have already\n",
        "# fited the training data and using mean and sd of the training information\n",
        "# we have to create or standrdized the test data"
      ],
      "metadata": {
        "id": "Y90-spr9AJ4T"
      },
      "execution_count": 115,
      "outputs": []
    },
    {
      "cell_type": "code",
      "source": [
        "X_test"
      ],
      "metadata": {
        "colab": {
          "base_uri": "https://localhost:8080/"
        },
        "id": "YjvhuGSWAONH",
        "outputId": "cc9b9b44-97a4-496a-cfc9-1e3c274913f3"
      },
      "execution_count": 116,
      "outputs": [
        {
          "output_type": "execute_result",
          "data": {
            "text/plain": [
              "array([[-1.34976047e+00, -1.41697825e+00,  1.29226092e-01, ...,\n",
              "        -2.55064762e-01, -1.20434911e+00, -6.42561224e-01],\n",
              "       [ 1.45341235e+00,  1.47219008e+00, -1.39568553e+00, ...,\n",
              "        -2.55064762e-01,  8.30324024e-01, -6.42561224e-01],\n",
              "       [-1.52495877e+00, -1.50452880e+00, -1.48061803e-03, ...,\n",
              "        -2.55064762e-01, -1.20434911e+00, -6.42561224e-01],\n",
              "       ...,\n",
              "       [-2.10971513e-01, -1.91270471e-01, -7.85720880e-01, ...,\n",
              "        -2.55064762e-01,  8.30324024e-01, -6.42561224e-01],\n",
              "       [-2.98570664e-01, -1.91270471e-01,  1.54521545e+00, ...,\n",
              "        -2.55064762e-01, -1.20434911e+00, -6.42561224e-01],\n",
              "       [ 1.45341235e+00,  1.38463953e+00, -3.06462942e-01, ...,\n",
              "        -2.55064762e-01,  8.30324024e-01, -6.42561224e-01]])"
            ]
          },
          "metadata": {},
          "execution_count": 116
        }
      ]
    },
    {
      "cell_type": "markdown",
      "source": [
        "## Building the model"
      ],
      "metadata": {
        "id": "5ulmB2MXNG5b"
      }
    },
    {
      "cell_type": "code",
      "source": [
        "clf = MLPClassifier(hidden_layer_sizes = 100, max_iter = 5000,\n",
        "                    solver = 'sgd', verbose = True, random_state=21,\n",
        "                    tol= 0.001)"
      ],
      "metadata": {
        "id": "Ea2O4laUA8G1"
      },
      "execution_count": 117,
      "outputs": []
    },
    {
      "cell_type": "code",
      "source": [
        "clf.fit(X_train,y_train)\n",
        "y_pred_train = clf.predict(X_train)\n",
        "y_pred_test = clf.predict(X_test)"
      ],
      "metadata": {
        "colab": {
          "base_uri": "https://localhost:8080/"
        },
        "id": "x9jAiuBrM8tl",
        "outputId": "e20a9b17-81f4-4fbe-a44a-f644f771acb2"
      },
      "execution_count": 118,
      "outputs": [
        {
          "output_type": "stream",
          "name": "stdout",
          "text": [
            "Iteration 1, loss = 0.64337742\n",
            "Iteration 2, loss = 0.57200145\n",
            "Iteration 3, loss = 0.50925782\n",
            "Iteration 4, loss = 0.46310156\n",
            "Iteration 5, loss = 0.42893914\n",
            "Iteration 6, loss = 0.40240410\n",
            "Iteration 7, loss = 0.38109913\n",
            "Iteration 8, loss = 0.36349894\n",
            "Iteration 9, loss = 0.34854138\n",
            "Iteration 10, loss = 0.33552069\n",
            "Iteration 11, loss = 0.32394017\n",
            "Iteration 12, loss = 0.31366579\n",
            "Iteration 13, loss = 0.30439043\n",
            "Iteration 14, loss = 0.29594532\n",
            "Iteration 15, loss = 0.28805189\n",
            "Iteration 16, loss = 0.28083580\n",
            "Iteration 17, loss = 0.27416434\n",
            "Iteration 18, loss = 0.26794322\n",
            "Iteration 19, loss = 0.26211477\n",
            "Iteration 20, loss = 0.25668754\n",
            "Iteration 21, loss = 0.25157118\n",
            "Iteration 22, loss = 0.24682533\n",
            "Iteration 23, loss = 0.24234252\n",
            "Iteration 24, loss = 0.23816454\n",
            "Iteration 25, loss = 0.23413897\n",
            "Iteration 26, loss = 0.23031545\n",
            "Iteration 27, loss = 0.22676508\n",
            "Iteration 28, loss = 0.22330409\n",
            "Iteration 29, loss = 0.22005055\n",
            "Iteration 30, loss = 0.21691629\n",
            "Iteration 31, loss = 0.21398075\n",
            "Iteration 32, loss = 0.21111895\n",
            "Iteration 33, loss = 0.20835835\n",
            "Iteration 34, loss = 0.20575061\n",
            "Iteration 35, loss = 0.20324795\n",
            "Iteration 36, loss = 0.20084880\n",
            "Iteration 37, loss = 0.19850126\n",
            "Iteration 38, loss = 0.19624355\n",
            "Iteration 39, loss = 0.19407048\n",
            "Iteration 40, loss = 0.19195255\n",
            "Iteration 41, loss = 0.18991837\n",
            "Iteration 42, loss = 0.18797581\n",
            "Iteration 43, loss = 0.18604999\n",
            "Iteration 44, loss = 0.18420601\n",
            "Iteration 45, loss = 0.18235099\n",
            "Iteration 46, loss = 0.18061781\n",
            "Iteration 47, loss = 0.17890541\n",
            "Iteration 48, loss = 0.17725940\n",
            "Iteration 49, loss = 0.17563173\n",
            "Iteration 50, loss = 0.17407003\n",
            "Iteration 51, loss = 0.17251120\n",
            "Iteration 52, loss = 0.17101828\n",
            "Iteration 53, loss = 0.16953346\n",
            "Iteration 54, loss = 0.16811615\n",
            "Iteration 55, loss = 0.16671032\n",
            "Iteration 56, loss = 0.16534144\n",
            "Iteration 57, loss = 0.16400691\n",
            "Iteration 58, loss = 0.16268324\n",
            "Iteration 59, loss = 0.16139685\n",
            "Iteration 60, loss = 0.16013012\n",
            "Iteration 61, loss = 0.15889459\n",
            "Iteration 62, loss = 0.15768571\n",
            "Iteration 63, loss = 0.15650289\n",
            "Iteration 64, loss = 0.15533683\n",
            "Iteration 65, loss = 0.15419297\n",
            "Iteration 66, loss = 0.15306974\n",
            "Iteration 67, loss = 0.15196757\n",
            "Iteration 68, loss = 0.15090443\n",
            "Iteration 69, loss = 0.14984171\n",
            "Iteration 70, loss = 0.14880148\n",
            "Iteration 71, loss = 0.14777985\n",
            "Iteration 72, loss = 0.14677000\n",
            "Iteration 73, loss = 0.14576970\n",
            "Iteration 74, loss = 0.14480352\n",
            "Iteration 75, loss = 0.14385336\n",
            "Iteration 76, loss = 0.14291550\n",
            "Iteration 77, loss = 0.14198117\n",
            "Iteration 78, loss = 0.14108310\n",
            "Iteration 79, loss = 0.14019801\n",
            "Iteration 80, loss = 0.13932887\n",
            "Iteration 81, loss = 0.13845771\n",
            "Iteration 82, loss = 0.13762009\n",
            "Iteration 83, loss = 0.13677831\n",
            "Iteration 84, loss = 0.13595566\n",
            "Training loss did not improve more than tol=0.001000 for 10 consecutive epochs. Stopping.\n"
          ]
        }
      ]
    },
    {
      "cell_type": "markdown",
      "source": [
        "## Create Performance matrix"
      ],
      "metadata": {
        "id": "nMhNOpyBOQLM"
      }
    },
    {
      "cell_type": "code",
      "source": [
        "from sklearn.metrics import confusion_matrix,classification_report"
      ],
      "metadata": {
        "id": "sIU0_DPpNR2d"
      },
      "execution_count": 119,
      "outputs": []
    },
    {
      "cell_type": "code",
      "source": [
        "confusion_matrix(y_train, y_pred_train)"
      ],
      "metadata": {
        "colab": {
          "base_uri": "https://localhost:8080/"
        },
        "id": "pjYl8nRcO8hw",
        "outputId": "22fe4d25-e286-417a-b9c1-22cfb0a3b885"
      },
      "execution_count": 120,
      "outputs": [
        {
          "output_type": "execute_result",
          "data": {
            "text/plain": [
              "array([[3140,   10],\n",
              "       [ 168,  169]])"
            ]
          },
          "metadata": {},
          "execution_count": 120
        }
      ]
    },
    {
      "cell_type": "code",
      "source": [
        "confusion_matrix(y_test, y_pred_test)"
      ],
      "metadata": {
        "colab": {
          "base_uri": "https://localhost:8080/"
        },
        "id": "ktDd7xf3OaB7",
        "outputId": "34997f8f-bf19-460d-b111-97995b9cf89b"
      },
      "execution_count": 121,
      "outputs": [
        {
          "output_type": "execute_result",
          "data": {
            "text/plain": [
              "array([[1349,    5],\n",
              "       [  66,   75]])"
            ]
          },
          "metadata": {},
          "execution_count": 121
        }
      ]
    },
    {
      "cell_type": "code",
      "source": [
        "print(classification_report(y_train, y_pred_train))"
      ],
      "metadata": {
        "colab": {
          "base_uri": "https://localhost:8080/"
        },
        "id": "UAozyPtAPvUt",
        "outputId": "c8fa4339-5672-4d08-b526-71cd613817cc"
      },
      "execution_count": 122,
      "outputs": [
        {
          "output_type": "stream",
          "name": "stdout",
          "text": [
            "              precision    recall  f1-score   support\n",
            "\n",
            "           0       0.95      1.00      0.97      3150\n",
            "           1       0.94      0.50      0.66       337\n",
            "\n",
            "    accuracy                           0.95      3487\n",
            "   macro avg       0.95      0.75      0.81      3487\n",
            "weighted avg       0.95      0.95      0.94      3487\n",
            "\n"
          ]
        }
      ]
    },
    {
      "cell_type": "code",
      "source": [
        "print(classification_report(y_test, y_pred_test))"
      ],
      "metadata": {
        "colab": {
          "base_uri": "https://localhost:8080/"
        },
        "id": "ULqnbPMbO3rn",
        "outputId": "50c77be3-ca24-4612-9233-e6960c2b93b6"
      },
      "execution_count": 123,
      "outputs": [
        {
          "output_type": "stream",
          "name": "stdout",
          "text": [
            "              precision    recall  f1-score   support\n",
            "\n",
            "           0       0.95      1.00      0.97      1354\n",
            "           1       0.94      0.53      0.68       141\n",
            "\n",
            "    accuracy                           0.95      1495\n",
            "   macro avg       0.95      0.76      0.83      1495\n",
            "weighted avg       0.95      0.95      0.95      1495\n",
            "\n"
          ]
        }
      ]
    },
    {
      "cell_type": "markdown",
      "source": [
        "## Build ROC Curve"
      ],
      "metadata": {
        "id": "vWKX0lDcQGFt"
      }
    },
    {
      "cell_type": "code",
      "source": [
        "# AUC and ROC for the training data\n",
        "\n",
        "# Predict Probabilities\n",
        "probs = clf.predict_proba(X_train)\n",
        "print(probs)\n",
        "# Keep probabilities for the positive outcome only\n",
        "probs = probs[:,1]\n",
        "print(probs)\n",
        "# Calculate AUC\n",
        "from sklearn.metrics import roc_auc_score\n",
        "auc = roc_auc_score(y_train,probs)\n",
        "print('AUC: %.3f' % auc)\n",
        "# calculate roc curve\n",
        "from sklearn.metrics import roc_curve\n",
        "fpr,tpr, thresholds = roc_curve(y_train,probs)\n",
        "plt.plot([0,1],[0,1], linestyle = '--')\n",
        "#Plot the roc curve for the model\n",
        "plt.plot(fpr,tpr, marker = '.')\n",
        "plt.show()"
      ],
      "metadata": {
        "colab": {
          "base_uri": "https://localhost:8080/",
          "height": 421
        },
        "id": "xCrkyTsaPpRj",
        "outputId": "6bcba830-68ba-4d3a-c0ee-7d53c9a2d86d"
      },
      "execution_count": 131,
      "outputs": [
        {
          "output_type": "stream",
          "name": "stdout",
          "text": [
            "[[0.86250583 0.13749417]\n",
            " [0.95872585 0.04127415]\n",
            " [0.98941072 0.01058928]\n",
            " ...\n",
            " [0.97843662 0.02156338]\n",
            " [0.99187231 0.00812769]\n",
            " [0.74367464 0.25632536]]\n",
            "[0.13749417 0.04127415 0.01058928 ... 0.02156338 0.00812769 0.25632536]\n",
            "AUC: 0.975\n"
          ]
        },
        {
          "output_type": "display_data",
          "data": {
            "text/plain": [
              "<Figure size 432x288 with 1 Axes>"
            ],
            "image/png": "[encoded data removed]"
          },
          "metadata": {
            "needs_background": "light"
          }
        }
      ]
    },
    {
      "cell_type": "code",
      "source": [
        "# AUC and ROC for the training data\n",
        "\n",
        "# Predict Probabilities\n",
        "probs = clf.predict_proba(X_test)\n",
        "print(probs)\n",
        "# Keep probabilities for the positive outcome only\n",
        "probs = probs[:,1]\n",
        "print(probs)\n",
        "# Calculate AUC\n",
        "from sklearn.metrics import roc_auc_score\n",
        "auc = roc_auc_score(y_test,probs)\n",
        "print('AUC: %.3f' % auc)\n",
        "# calculate roc curve\n",
        "from sklearn.metrics import roc_curve\n",
        "fpr,tpr, thresholds = roc_curve(y_test,probs)\n",
        "plt.plot([0,1],[0,1], linestyle = '--')\n",
        "#Plot the roc curve for the model\n",
        "plt.plot(fpr,tpr, marker = '.')\n",
        "plt.show()"
      ],
      "metadata": {
        "colab": {
          "base_uri": "https://localhost:8080/",
          "height": 421
        },
        "id": "LuiVWVccQXlS",
        "outputId": "568a7cbd-adff-4359-8cc5-f6bbb1a59fca"
      },
      "execution_count": 132,
      "outputs": [
        {
          "output_type": "stream",
          "name": "stdout",
          "text": [
            "[[0.91742805 0.08257195]\n",
            " [0.99737439 0.00262561]\n",
            " [0.86885899 0.13114101]\n",
            " ...\n",
            " [0.98295374 0.01704626]\n",
            " [0.73371533 0.26628467]\n",
            " [0.94311109 0.05688891]]\n",
            "[0.08257195 0.00262561 0.13114101 ... 0.01704626 0.26628467 0.05688891]\n",
            "AUC: 0.967\n"
          ]
        },
        {
          "output_type": "display_data",
          "data": {
            "text/plain": [
              "<Figure size 432x288 with 1 Axes>"
            ],
            "image/png": "[encoded data removed]"
          },
          "metadata": {
            "needs_background": "light"
          }
        }
      ]
    },
    {
      "cell_type": "code",
      "source": [
        ""
      ],
      "metadata": {
        "id": "sFlwM_VPR0jz"
      },
      "execution_count": null,
      "outputs": []
    }
  ]
}